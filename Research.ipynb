{
 "cells": [
  {
   "cell_type": "markdown",
   "metadata": {},
   "source": [
    "# Research\n",
    "\n",
    "by Joshua Isaacson and Hannah Isaacson \n",
    "\n",
    "For our Fall 2017 SICE@IU undergraduate research project, *A Sentiment-Based Long-Short Equity Strategy*."
   ]
  },
  {
   "cell_type": "markdown",
   "metadata": {},
   "source": [
    "## Components\n",
    "\n",
    "1. Universe Selection\n",
    "2. Alphalens Factor Analysis\n",
    "3. Rebalancing\n",
    "4. Portfolio\n",
    "5. Pipeline"
   ]
  },
  {
   "cell_type": "markdown",
   "metadata": {},
   "source": [
    "##  Universe Selection\n",
    "\n",
    "This component covers our process of defining the trading universe for which the algorithm operates."
   ]
  },
  {
   "cell_type": "markdown",
   "metadata": {},
   "source": [
    "### Imports "
   ]
  },
  {
   "cell_type": "code",
   "execution_count": 2,
   "metadata": {
    "collapsed": false
   },
   "outputs": [],
   "source": [
    "import numpy as np\n",
    "import pandas as pd\n",
    "import matplotlib.pyplot as plt\n",
    "import seaborn as sns\n",
    "from quantopian.pipeline.filters import Q1500US\n",
    "from quantopian.research import run_pipeline\n",
    "from quantopian.pipeline import Pipeline\n",
    "from quantopian.pipeline.data.psychsignal import stocktwits\n",
    "from quantopian.pipeline.data import Fundamentals\n",
    "from quantopian.pipeline.data.builtin import USEquityPricing\n",
    "from quantopian.pipeline.filters.fundamentals import IsPrimaryShare\n",
    "from quantopian.pipeline.data.builtin import USEquityPricing\n",
    "from quantopian.pipeline.factors import CustomFactor, Returns\n",
    "from quantopian.pipeline.classifiers.fundamentals import Sector\n",
    "from quantopian.pipeline.data.sentdex import sentiment_free\n",
    "from quantopian.pipeline.factors import SimpleMovingAverage\n",
    "from time import time\n",
    "import alphalens as al"
   ]
  },
  {
   "cell_type": "markdown",
   "metadata": {},
   "source": [
    "### Universe\n",
    "\n",
    "WHY DID WE CHOOSE THIS\n",
    "WHAT EQUITIES ARE IN IT"
   ]
  },
  {
   "cell_type": "code",
   "execution_count": 3,
   "metadata": {
    "collapsed": false
   },
   "outputs": [],
   "source": [
    "universe = Q1500US()"
   ]
  },
  {
   "cell_type": "markdown",
   "metadata": {},
   "source": [
    "## Factor Analysis\n",
    "\n",
    "We want to test to see how good our alpha factors are at predicting relative price movements. A wide range of factors that are independent of each other yield a better ranking scheme.\n",
    "\n",
    "The factors we are going to evaluate are:\n",
    "* bearish_intensity\n",
    "* bullish_intensity\n",
    "* sentiment_signal\n",
    "* sentiment moving average (10, 20, 30, 50, 80 day)\n",
    "    * simple and exponential"
   ]
  },
  {
   "cell_type": "markdown",
   "metadata": {},
   "source": [
    "### Fields in PsychSignal Dataset"
   ]
  },
  {
   "cell_type": "code",
   "execution_count": 4,
   "metadata": {
    "collapsed": false,
    "scrolled": false
   },
   "outputs": [
    {
     "name": "stdout",
     "output_type": "stream",
     "text": [
      "Dataset: stocktwits\n",
      "\n",
      "Fields:\n",
      "bullish_intensity - float64\n",
      "symbol - object\n",
      "bull_bear_msg_ratio - float64\n",
      "source - object\n",
      "bear_scored_messages - float64\n",
      "asof_date - datetime64[ns]\n",
      "bull_minus_bear - float64\n",
      "bearish_intensity - float64\n",
      "bull_scored_messages - float64\n",
      "total_scanned_messages - float64\n",
      "\n",
      "\n"
     ]
    }
   ],
   "source": [
    "def print_fields(dataset):\n",
    "    print \"Dataset: %s\\n\" % dataset.__name__\n",
    "    print \"Fields:\"\n",
    "    for field in list(dataset.columns):\n",
    "        print \"%s - %s\" % (field.name, field.dtype)\n",
    "    print \"\\n\"\n",
    "\n",
    "for data in (stocktwits,):\n",
    "    print_fields(data)"
   ]
  },
  {
   "cell_type": "markdown",
   "metadata": {},
   "source": [
    "### Fields in Sentdex Sentiment Analysis Dataset"
   ]
  },
  {
   "cell_type": "code",
   "execution_count": 5,
   "metadata": {
    "collapsed": false
   },
   "outputs": [
    {
     "name": "stdout",
     "output_type": "stream",
     "text": [
      "Dataset: sentiment_free\n",
      "\n",
      "Fields:\n",
      "symbol - object\n",
      "asof_date - datetime64[ns]\n",
      "sentiment_signal - float64\n",
      "\n",
      "\n"
     ]
    }
   ],
   "source": [
    "def print_fields(dataset):\n",
    "    print \"Dataset: %s\\n\" % dataset.__name__\n",
    "    print \"Fields:\"\n",
    "    for field in list(dataset.columns):\n",
    "        print \"%s - %s\" % (field.name, field.dtype)\n",
    "    print \"\\n\"\n",
    "\n",
    "for data in (sentiment_free,):\n",
    "    print_fields(data)"
   ]
  },
  {
   "cell_type": "markdown",
   "metadata": {},
   "source": [
    "### Sentiment Signal Moving Averages\n",
    "\n",
    "Simple Moving Averages"
   ]
  },
  {
   "cell_type": "code",
   "execution_count": 6,
   "metadata": {
    "collapsed": false
   },
   "outputs": [],
   "source": [
    "sma_10 = SimpleMovingAverage(inputs=[sentiment_free.sentiment_signal], window_length=10, mask=universe)\n",
    "sma_20 = SimpleMovingAverage(inputs=[sentiment_free.sentiment_signal], window_length=20, mask=universe)\n",
    "sma_30 = SimpleMovingAverage(inputs=[sentiment_free.sentiment_signal], window_length=30, mask=universe)\n",
    "sma_50 = SimpleMovingAverage(inputs=[sentiment_free.sentiment_signal], window_length=50, mask=universe)\n",
    "sma_80 = SimpleMovingAverage(inputs=[sentiment_free.sentiment_signal], window_length=80, mask=universe)"
   ]
  },
  {
   "cell_type": "markdown",
   "metadata": {},
   "source": [
    "### Sector Codes"
   ]
  },
  {
   "cell_type": "code",
   "execution_count": 7,
   "metadata": {
    "collapsed": true
   },
   "outputs": [],
   "source": [
    "MORNINGSTAR_SECTOR_CODES = {\n",
    "     -1: 'Misc',\n",
    "    101: 'Basic Materials',\n",
    "    102: 'Consumer Cyclical',\n",
    "    103: 'Financial Services',\n",
    "    104: 'Real Estate',\n",
    "    205: 'Consumer Defensive',\n",
    "    206: 'Healthcare',\n",
    "    207: 'Utilities',\n",
    "    308: 'Communication Services',\n",
    "    309: 'Energy',\n",
    "    310: 'Industrials',\n",
    "    311: 'Technology' ,\n",
    "}"
   ]
  },
  {
   "cell_type": "markdown",
   "metadata": {
    "collapsed": true
   },
   "source": [
    "### Getting Data"
   ]
  },
  {
   "cell_type": "code",
   "execution_count": 20,
   "metadata": {
    "collapsed": false,
    "scrolled": false
   },
   "outputs": [
    {
     "name": "stdout",
     "output_type": "stream",
     "text": [
      "Time to run pipeline 45.70 secs\n"
     ]
    }
   ],
   "source": [
    "pipe = Pipeline()\n",
    "\n",
    "pipe.add(stocktwits.bearish_intensity.latest, 'bearish_intensity')\n",
    "pipe.add(stocktwits.bullish_intensity.latest, 'bullish_intensity')\n",
    "pipe.add(sentiment_free.sentiment_signal.latest, 'sentiment_signal')\n",
    "pipe.add(sma_10, 'sma_10')\n",
    "pipe.add(sma_20, 'sma_20')\n",
    "pipe.add(sma_30, 'sma_30')\n",
    "pipe.add(sma_50, 'sma_50')\n",
    "pipe.add(sma_80, 'sma_80')\n",
    "pipe.add(Sector(), 'Sector')\n",
    "\n",
    "pipe.set_screen(universe)\n",
    "\n",
    "start_timer = time()\n",
    "results = run_pipeline(pipe, '2015-01-01', '2016-01-01')\n",
    "end_timer = time()\n",
    "\n",
    "print(\"Time to run pipeline %.2f secs\" % (end_timer - start_timer))"
   ]
  },
  {
   "cell_type": "markdown",
   "metadata": {},
   "source": [
    "### Dealing with NaN Values"
   ]
  },
  {
   "cell_type": "code",
   "execution_count": 21,
   "metadata": {
    "collapsed": false
   },
   "outputs": [
    {
     "data": {
      "text/html": [
       "<div>\n",
       "<table border=\"1\" class=\"dataframe\">\n",
       "  <thead>\n",
       "    <tr style=\"text-align: right;\">\n",
       "      <th></th>\n",
       "      <th></th>\n",
       "      <th>Sector</th>\n",
       "      <th>bearish_intensity</th>\n",
       "      <th>bullish_intensity</th>\n",
       "      <th>sentiment_signal</th>\n",
       "      <th>sma_10</th>\n",
       "      <th>sma_20</th>\n",
       "      <th>sma_30</th>\n",
       "      <th>sma_50</th>\n",
       "      <th>sma_80</th>\n",
       "    </tr>\n",
       "  </thead>\n",
       "  <tbody>\n",
       "    <tr>\n",
       "      <th rowspan=\"5\" valign=\"top\">2015-01-02 00:00:00+00:00</th>\n",
       "      <th>Equity(2 [ARNC])</th>\n",
       "      <td>101</td>\n",
       "      <td>0.00</td>\n",
       "      <td>1.20</td>\n",
       "      <td>2.0</td>\n",
       "      <td>2.8</td>\n",
       "      <td>3.600</td>\n",
       "      <td>4.266667</td>\n",
       "      <td>4.26</td>\n",
       "      <td>2.7375</td>\n",
       "    </tr>\n",
       "    <tr>\n",
       "      <th>Equity(24 [AAPL])</th>\n",
       "      <td>311</td>\n",
       "      <td>1.82</td>\n",
       "      <td>1.46</td>\n",
       "      <td>2.0</td>\n",
       "      <td>1.8</td>\n",
       "      <td>0.200</td>\n",
       "      <td>0.800000</td>\n",
       "      <td>0.80</td>\n",
       "      <td>0.8750</td>\n",
       "    </tr>\n",
       "    <tr>\n",
       "      <th>Equity(41 [ARCB])</th>\n",
       "      <td>310</td>\n",
       "      <td>0.91</td>\n",
       "      <td>0.73</td>\n",
       "      <td>1.5</td>\n",
       "      <td>-0.2</td>\n",
       "      <td>-0.375</td>\n",
       "      <td>0.416667</td>\n",
       "      <td>0.88</td>\n",
       "      <td>1.3250</td>\n",
       "    </tr>\n",
       "    <tr>\n",
       "      <th>Equity(62 [ABT])</th>\n",
       "      <td>206</td>\n",
       "      <td>0.00</td>\n",
       "      <td>0.00</td>\n",
       "      <td>1.0</td>\n",
       "      <td>-2.2</td>\n",
       "      <td>-0.950</td>\n",
       "      <td>0.033333</td>\n",
       "      <td>0.96</td>\n",
       "      <td>1.7750</td>\n",
       "    </tr>\n",
       "    <tr>\n",
       "      <th>Equity(67 [ADSK])</th>\n",
       "      <td>311</td>\n",
       "      <td>1.70</td>\n",
       "      <td>0.00</td>\n",
       "      <td>6.0</td>\n",
       "      <td>6.0</td>\n",
       "      <td>6.000</td>\n",
       "      <td>5.933333</td>\n",
       "      <td>4.56</td>\n",
       "      <td>4.2500</td>\n",
       "    </tr>\n",
       "  </tbody>\n",
       "</table>\n",
       "</div>"
      ],
      "text/plain": [
       "                                             Sector  bearish_intensity  \\\n",
       "2015-01-02 00:00:00+00:00 Equity(2 [ARNC])      101               0.00   \n",
       "                          Equity(24 [AAPL])     311               1.82   \n",
       "                          Equity(41 [ARCB])     310               0.91   \n",
       "                          Equity(62 [ABT])      206               0.00   \n",
       "                          Equity(67 [ADSK])     311               1.70   \n",
       "\n",
       "                                             bullish_intensity  \\\n",
       "2015-01-02 00:00:00+00:00 Equity(2 [ARNC])                1.20   \n",
       "                          Equity(24 [AAPL])               1.46   \n",
       "                          Equity(41 [ARCB])               0.73   \n",
       "                          Equity(62 [ABT])                0.00   \n",
       "                          Equity(67 [ADSK])               0.00   \n",
       "\n",
       "                                             sentiment_signal  sma_10  sma_20  \\\n",
       "2015-01-02 00:00:00+00:00 Equity(2 [ARNC])                2.0     2.8   3.600   \n",
       "                          Equity(24 [AAPL])               2.0     1.8   0.200   \n",
       "                          Equity(41 [ARCB])               1.5    -0.2  -0.375   \n",
       "                          Equity(62 [ABT])                1.0    -2.2  -0.950   \n",
       "                          Equity(67 [ADSK])               6.0     6.0   6.000   \n",
       "\n",
       "                                               sma_30  sma_50  sma_80  \n",
       "2015-01-02 00:00:00+00:00 Equity(2 [ARNC])   4.266667    4.26  2.7375  \n",
       "                          Equity(24 [AAPL])  0.800000    0.80  0.8750  \n",
       "                          Equity(41 [ARCB])  0.416667    0.88  1.3250  \n",
       "                          Equity(62 [ABT])   0.033333    0.96  1.7750  \n",
       "                          Equity(67 [ADSK])  5.933333    4.56  4.2500  "
      ]
     },
     "execution_count": 21,
     "metadata": {},
     "output_type": "execute_result"
    }
   ],
   "source": [
    "adjusted_dataset = results.interpolate()\n",
    "adjusted_dataset.head()\n",
    "#len(adjusted_dataset)"
   ]
  },
  {
   "cell_type": "markdown",
   "metadata": {},
   "source": [
    "### Filtering for Unique Equities"
   ]
  },
  {
   "cell_type": "markdown",
   "metadata": {},
   "source": [
    "# TODO\n",
    "\n",
    "* first name the equity column, the drop duplicates based on it\n",
    "* Alphalens tearsheet for:\n",
    "    * bearish_intensity\n",
    "    * bullish_intensity\n",
    "    * sentiment_signal\n",
    "    * sentiment moving averages\n",
    "* choose factors\n",
    "* choose how to distribute long and short\n",
    "* backtest\n",
    "* analyze portfolio\n",
    "* repeat backtests"
   ]
  },
  {
   "cell_type": "markdown",
   "metadata": {},
   "source": [
    "### Factor Output from Pipeline\n",
    "\n",
    "All factors are from the pipeline's output, adjusted to interpolate the NaNs."
   ]
  },
  {
   "cell_type": "code",
   "execution_count": 22,
   "metadata": {
    "collapsed": false
   },
   "outputs": [
    {
     "name": "stdout",
     "output_type": "stream",
     "text": [
      "2015-01-02 00:00:00+00:00  Equity(2 [ARNC])     0.00\n",
      "                           Equity(24 [AAPL])    1.82\n",
      "                           Equity(41 [ARCB])    0.91\n",
      "                           Equity(62 [ABT])     0.00\n",
      "                           Equity(67 [ADSK])    1.70\n",
      "Name: bearish_intensity, dtype: float64\n"
     ]
    }
   ],
   "source": [
    "bearish_intensity_factor = adjusted_dataset['bearish_intensity']\n",
    "print(bearish_intensity_factor.head())"
   ]
  },
  {
   "cell_type": "code",
   "execution_count": 23,
   "metadata": {
    "collapsed": false
   },
   "outputs": [
    {
     "name": "stdout",
     "output_type": "stream",
     "text": [
      "2015-01-02 00:00:00+00:00  Equity(2 [ARNC])     1.20\n",
      "                           Equity(24 [AAPL])    1.46\n",
      "                           Equity(41 [ARCB])    0.73\n",
      "                           Equity(62 [ABT])     0.00\n",
      "                           Equity(67 [ADSK])    0.00\n",
      "Name: bullish_intensity, dtype: float64\n"
     ]
    }
   ],
   "source": [
    "bullish_intensity_factor = adjusted_dataset['bullish_intensity']\n",
    "print(bullish_intensity_factor.head())"
   ]
  },
  {
   "cell_type": "code",
   "execution_count": 24,
   "metadata": {
    "collapsed": false
   },
   "outputs": [
    {
     "name": "stdout",
     "output_type": "stream",
     "text": [
      "2015-01-02 00:00:00+00:00  Equity(2 [ARNC])     2.0\n",
      "                           Equity(24 [AAPL])    2.0\n",
      "                           Equity(41 [ARCB])    1.5\n",
      "                           Equity(62 [ABT])     1.0\n",
      "                           Equity(67 [ADSK])    6.0\n",
      "Name: sentiment_signal, dtype: float64\n"
     ]
    }
   ],
   "source": [
    "sentiment_signal_factor = adjusted_dataset['sentiment_signal']\n",
    "print(sentiment_signal_factor.head())"
   ]
  },
  {
   "cell_type": "code",
   "execution_count": 25,
   "metadata": {
    "collapsed": false
   },
   "outputs": [
    {
     "name": "stdout",
     "output_type": "stream",
     "text": [
      "2015-01-02 00:00:00+00:00  Equity(2 [ARNC])     2.8\n",
      "                           Equity(24 [AAPL])    1.8\n",
      "                           Equity(41 [ARCB])   -0.2\n",
      "                           Equity(62 [ABT])    -2.2\n",
      "                           Equity(67 [ADSK])    6.0\n",
      "Name: sma_10, dtype: float64\n"
     ]
    }
   ],
   "source": [
    "sma_10_factor = adjusted_dataset['sma_10']\n",
    "print(sma_10_factor.head())"
   ]
  },
  {
   "cell_type": "code",
   "execution_count": 26,
   "metadata": {
    "collapsed": false
   },
   "outputs": [
    {
     "name": "stdout",
     "output_type": "stream",
     "text": [
      "2015-01-02 00:00:00+00:00  Equity(2 [ARNC])     3.600\n",
      "                           Equity(24 [AAPL])    0.200\n",
      "                           Equity(41 [ARCB])   -0.375\n",
      "                           Equity(62 [ABT])    -0.950\n",
      "                           Equity(67 [ADSK])    6.000\n",
      "Name: sma_20, dtype: float64\n"
     ]
    }
   ],
   "source": [
    "sma_20_factor = adjusted_dataset['sma_20']\n",
    "print(sma_20_factor.head())"
   ]
  },
  {
   "cell_type": "code",
   "execution_count": 27,
   "metadata": {
    "collapsed": false
   },
   "outputs": [
    {
     "name": "stdout",
     "output_type": "stream",
     "text": [
      "2015-01-02 00:00:00+00:00  Equity(2 [ARNC])     4.266667\n",
      "                           Equity(24 [AAPL])    0.800000\n",
      "                           Equity(41 [ARCB])    0.416667\n",
      "                           Equity(62 [ABT])     0.033333\n",
      "                           Equity(67 [ADSK])    5.933333\n",
      "Name: sma_30, dtype: float64\n"
     ]
    }
   ],
   "source": [
    "sma_30_factor = adjusted_dataset['sma_30']\n",
    "print(sma_30_factor.head())"
   ]
  },
  {
   "cell_type": "code",
   "execution_count": 28,
   "metadata": {
    "collapsed": false
   },
   "outputs": [
    {
     "name": "stdout",
     "output_type": "stream",
     "text": [
      "2015-01-02 00:00:00+00:00  Equity(2 [ARNC])     4.26\n",
      "                           Equity(24 [AAPL])    0.80\n",
      "                           Equity(41 [ARCB])    0.88\n",
      "                           Equity(62 [ABT])     0.96\n",
      "                           Equity(67 [ADSK])    4.56\n",
      "Name: sma_50, dtype: float64\n"
     ]
    }
   ],
   "source": [
    "sma_50_factor = adjusted_dataset['sma_50']\n",
    "print(sma_50_factor.head())"
   ]
  },
  {
   "cell_type": "code",
   "execution_count": 29,
   "metadata": {
    "collapsed": false
   },
   "outputs": [
    {
     "name": "stdout",
     "output_type": "stream",
     "text": [
      "2015-01-02 00:00:00+00:00  Equity(2 [ARNC])     2.7375\n",
      "                           Equity(24 [AAPL])    0.8750\n",
      "                           Equity(41 [ARCB])    1.3250\n",
      "                           Equity(62 [ABT])     1.7750\n",
      "                           Equity(67 [ADSK])    4.2500\n",
      "Name: sma_80, dtype: float64\n"
     ]
    }
   ],
   "source": [
    "sma_80_factor = adjusted_dataset['sma_80']\n",
    "print(sma_80_factor.head())"
   ]
  },
  {
   "cell_type": "markdown",
   "metadata": {},
   "source": [
    "We also want to see equity performance broken down by sector."
   ]
  },
  {
   "cell_type": "code",
   "execution_count": 30,
   "metadata": {
    "collapsed": true
   },
   "outputs": [],
   "source": [
    "sectors = adjusted_dataset['Sector']"
   ]
  },
  {
   "cell_type": "markdown",
   "metadata": {},
   "source": [
    "Grab the pricing data for the unique equities in our pipeline."
   ]
  },
  {
   "cell_type": "code",
   "execution_count": 36,
   "metadata": {
    "collapsed": false
   },
   "outputs": [
    {
     "name": "stdout",
     "output_type": "stream",
     "text": [
      "[Equity(2 [ARNC]) Equity(24 [AAPL]) Equity(41 [ARCB]) ...,\n",
      " Equity(49496 [FDC]) Equity(49506 [HPE]) Equity(49515 [RACE])]\n"
     ]
    }
   ],
   "source": [
    "asset_list = adjusted_dataset.index.levels[1].unique()\n",
    "prices = get_pricing(asset_list, start_date='2015-01-01', end_date='2016-01-01', fields='price')\n",
    "print(asset_list)"
   ]
  },
  {
   "cell_type": "code",
   "execution_count": 37,
   "metadata": {
    "collapsed": false
   },
   "outputs": [
    {
     "data": {
      "text/html": [
       "<div>\n",
       "<table border=\"1\" class=\"dataframe\">\n",
       "  <thead>\n",
       "    <tr style=\"text-align: right;\">\n",
       "      <th></th>\n",
       "      <th>Equity(2 [ARNC])</th>\n",
       "      <th>Equity(24 [AAPL])</th>\n",
       "      <th>Equity(41 [ARCB])</th>\n",
       "      <th>Equity(53 [ABMD])</th>\n",
       "      <th>Equity(62 [ABT])</th>\n",
       "      <th>Equity(67 [ADSK])</th>\n",
       "      <th>Equity(76 [TAP])</th>\n",
       "      <th>Equity(110 [ACXM])</th>\n",
       "      <th>Equity(114 [ADBE])</th>\n",
       "      <th>Equity(122 [ADI])</th>\n",
       "      <th>...</th>\n",
       "      <th>Equity(49203 [GCI])</th>\n",
       "      <th>Equity(49209 [BXLT])</th>\n",
       "      <th>Equity(49210 [CC])</th>\n",
       "      <th>Equity(49213 [ENR])</th>\n",
       "      <th>Equity(49229 [KHC])</th>\n",
       "      <th>Equity(49242 [PYPL])</th>\n",
       "      <th>Equity(49279 [BUFF])</th>\n",
       "      <th>Equity(49496 [FDC])</th>\n",
       "      <th>Equity(49506 [HPE])</th>\n",
       "      <th>Equity(49515 [RACE])</th>\n",
       "    </tr>\n",
       "  </thead>\n",
       "  <tbody>\n",
       "    <tr>\n",
       "      <th>2015-01-02 00:00:00+00:00</th>\n",
       "      <td>15.717</td>\n",
       "      <td>107.469</td>\n",
       "      <td>45.513</td>\n",
       "      <td>37.30</td>\n",
       "      <td>43.977</td>\n",
       "      <td>59.53</td>\n",
       "      <td>72.300</td>\n",
       "      <td>19.605</td>\n",
       "      <td>72.33</td>\n",
       "      <td>54.041</td>\n",
       "      <td>...</td>\n",
       "      <td>NaN</td>\n",
       "      <td>NaN</td>\n",
       "      <td>NaN</td>\n",
       "      <td>NaN</td>\n",
       "      <td>NaN</td>\n",
       "      <td>NaN</td>\n",
       "      <td>NaN</td>\n",
       "      <td>NaN</td>\n",
       "      <td>NaN</td>\n",
       "      <td>NaN</td>\n",
       "    </tr>\n",
       "    <tr>\n",
       "      <th>2015-01-05 00:00:00+00:00</th>\n",
       "      <td>14.817</td>\n",
       "      <td>104.470</td>\n",
       "      <td>44.839</td>\n",
       "      <td>37.09</td>\n",
       "      <td>43.997</td>\n",
       "      <td>58.66</td>\n",
       "      <td>71.889</td>\n",
       "      <td>19.425</td>\n",
       "      <td>71.99</td>\n",
       "      <td>53.058</td>\n",
       "      <td>...</td>\n",
       "      <td>NaN</td>\n",
       "      <td>NaN</td>\n",
       "      <td>NaN</td>\n",
       "      <td>NaN</td>\n",
       "      <td>NaN</td>\n",
       "      <td>NaN</td>\n",
       "      <td>NaN</td>\n",
       "      <td>NaN</td>\n",
       "      <td>NaN</td>\n",
       "      <td>NaN</td>\n",
       "    </tr>\n",
       "    <tr>\n",
       "      <th>2015-01-06 00:00:00+00:00</th>\n",
       "      <td>14.906</td>\n",
       "      <td>104.451</td>\n",
       "      <td>42.805</td>\n",
       "      <td>36.13</td>\n",
       "      <td>43.478</td>\n",
       "      <td>57.50</td>\n",
       "      <td>71.527</td>\n",
       "      <td>19.080</td>\n",
       "      <td>70.52</td>\n",
       "      <td>51.812</td>\n",
       "      <td>...</td>\n",
       "      <td>NaN</td>\n",
       "      <td>NaN</td>\n",
       "      <td>NaN</td>\n",
       "      <td>NaN</td>\n",
       "      <td>NaN</td>\n",
       "      <td>NaN</td>\n",
       "      <td>NaN</td>\n",
       "      <td>NaN</td>\n",
       "      <td>NaN</td>\n",
       "      <td>NaN</td>\n",
       "    </tr>\n",
       "    <tr>\n",
       "      <th>2015-01-07 00:00:00+00:00</th>\n",
       "      <td>15.302</td>\n",
       "      <td>105.945</td>\n",
       "      <td>41.734</td>\n",
       "      <td>37.28</td>\n",
       "      <td>43.840</td>\n",
       "      <td>57.37</td>\n",
       "      <td>73.807</td>\n",
       "      <td>19.330</td>\n",
       "      <td>71.12</td>\n",
       "      <td>52.357</td>\n",
       "      <td>...</td>\n",
       "      <td>NaN</td>\n",
       "      <td>NaN</td>\n",
       "      <td>NaN</td>\n",
       "      <td>NaN</td>\n",
       "      <td>NaN</td>\n",
       "      <td>NaN</td>\n",
       "      <td>NaN</td>\n",
       "      <td>NaN</td>\n",
       "      <td>NaN</td>\n",
       "      <td>NaN</td>\n",
       "    </tr>\n",
       "    <tr>\n",
       "      <th>2015-01-08 00:00:00+00:00</th>\n",
       "      <td>15.757</td>\n",
       "      <td>109.996</td>\n",
       "      <td>42.716</td>\n",
       "      <td>38.96</td>\n",
       "      <td>44.731</td>\n",
       "      <td>58.80</td>\n",
       "      <td>76.088</td>\n",
       "      <td>19.790</td>\n",
       "      <td>72.91</td>\n",
       "      <td>53.281</td>\n",
       "      <td>...</td>\n",
       "      <td>NaN</td>\n",
       "      <td>NaN</td>\n",
       "      <td>NaN</td>\n",
       "      <td>NaN</td>\n",
       "      <td>NaN</td>\n",
       "      <td>NaN</td>\n",
       "      <td>NaN</td>\n",
       "      <td>NaN</td>\n",
       "      <td>NaN</td>\n",
       "      <td>NaN</td>\n",
       "    </tr>\n",
       "  </tbody>\n",
       "</table>\n",
       "<p>5 rows × 1736 columns</p>\n",
       "</div>"
      ],
      "text/plain": [
       "                           Equity(2 [ARNC])  Equity(24 [AAPL])  \\\n",
       "2015-01-02 00:00:00+00:00            15.717            107.469   \n",
       "2015-01-05 00:00:00+00:00            14.817            104.470   \n",
       "2015-01-06 00:00:00+00:00            14.906            104.451   \n",
       "2015-01-07 00:00:00+00:00            15.302            105.945   \n",
       "2015-01-08 00:00:00+00:00            15.757            109.996   \n",
       "\n",
       "                           Equity(41 [ARCB])  Equity(53 [ABMD])  \\\n",
       "2015-01-02 00:00:00+00:00             45.513              37.30   \n",
       "2015-01-05 00:00:00+00:00             44.839              37.09   \n",
       "2015-01-06 00:00:00+00:00             42.805              36.13   \n",
       "2015-01-07 00:00:00+00:00             41.734              37.28   \n",
       "2015-01-08 00:00:00+00:00             42.716              38.96   \n",
       "\n",
       "                           Equity(62 [ABT])  Equity(67 [ADSK])  \\\n",
       "2015-01-02 00:00:00+00:00            43.977              59.53   \n",
       "2015-01-05 00:00:00+00:00            43.997              58.66   \n",
       "2015-01-06 00:00:00+00:00            43.478              57.50   \n",
       "2015-01-07 00:00:00+00:00            43.840              57.37   \n",
       "2015-01-08 00:00:00+00:00            44.731              58.80   \n",
       "\n",
       "                           Equity(76 [TAP])  Equity(110 [ACXM])  \\\n",
       "2015-01-02 00:00:00+00:00            72.300              19.605   \n",
       "2015-01-05 00:00:00+00:00            71.889              19.425   \n",
       "2015-01-06 00:00:00+00:00            71.527              19.080   \n",
       "2015-01-07 00:00:00+00:00            73.807              19.330   \n",
       "2015-01-08 00:00:00+00:00            76.088              19.790   \n",
       "\n",
       "                           Equity(114 [ADBE])  Equity(122 [ADI])  \\\n",
       "2015-01-02 00:00:00+00:00               72.33             54.041   \n",
       "2015-01-05 00:00:00+00:00               71.99             53.058   \n",
       "2015-01-06 00:00:00+00:00               70.52             51.812   \n",
       "2015-01-07 00:00:00+00:00               71.12             52.357   \n",
       "2015-01-08 00:00:00+00:00               72.91             53.281   \n",
       "\n",
       "                                   ...           Equity(49203 [GCI])  \\\n",
       "2015-01-02 00:00:00+00:00          ...                           NaN   \n",
       "2015-01-05 00:00:00+00:00          ...                           NaN   \n",
       "2015-01-06 00:00:00+00:00          ...                           NaN   \n",
       "2015-01-07 00:00:00+00:00          ...                           NaN   \n",
       "2015-01-08 00:00:00+00:00          ...                           NaN   \n",
       "\n",
       "                           Equity(49209 [BXLT])  Equity(49210 [CC])  \\\n",
       "2015-01-02 00:00:00+00:00                   NaN                 NaN   \n",
       "2015-01-05 00:00:00+00:00                   NaN                 NaN   \n",
       "2015-01-06 00:00:00+00:00                   NaN                 NaN   \n",
       "2015-01-07 00:00:00+00:00                   NaN                 NaN   \n",
       "2015-01-08 00:00:00+00:00                   NaN                 NaN   \n",
       "\n",
       "                           Equity(49213 [ENR])  Equity(49229 [KHC])  \\\n",
       "2015-01-02 00:00:00+00:00                  NaN                  NaN   \n",
       "2015-01-05 00:00:00+00:00                  NaN                  NaN   \n",
       "2015-01-06 00:00:00+00:00                  NaN                  NaN   \n",
       "2015-01-07 00:00:00+00:00                  NaN                  NaN   \n",
       "2015-01-08 00:00:00+00:00                  NaN                  NaN   \n",
       "\n",
       "                           Equity(49242 [PYPL])  Equity(49279 [BUFF])  \\\n",
       "2015-01-02 00:00:00+00:00                   NaN                   NaN   \n",
       "2015-01-05 00:00:00+00:00                   NaN                   NaN   \n",
       "2015-01-06 00:00:00+00:00                   NaN                   NaN   \n",
       "2015-01-07 00:00:00+00:00                   NaN                   NaN   \n",
       "2015-01-08 00:00:00+00:00                   NaN                   NaN   \n",
       "\n",
       "                           Equity(49496 [FDC])  Equity(49506 [HPE])  \\\n",
       "2015-01-02 00:00:00+00:00                  NaN                  NaN   \n",
       "2015-01-05 00:00:00+00:00                  NaN                  NaN   \n",
       "2015-01-06 00:00:00+00:00                  NaN                  NaN   \n",
       "2015-01-07 00:00:00+00:00                  NaN                  NaN   \n",
       "2015-01-08 00:00:00+00:00                  NaN                  NaN   \n",
       "\n",
       "                           Equity(49515 [RACE])  \n",
       "2015-01-02 00:00:00+00:00                   NaN  \n",
       "2015-01-05 00:00:00+00:00                   NaN  \n",
       "2015-01-06 00:00:00+00:00                   NaN  \n",
       "2015-01-07 00:00:00+00:00                   NaN  \n",
       "2015-01-08 00:00:00+00:00                   NaN  \n",
       "\n",
       "[5 rows x 1736 columns]"
      ]
     },
     "execution_count": 37,
     "metadata": {},
     "output_type": "execute_result"
    }
   ],
   "source": [
    "prices.head()"
   ]
  },
  {
   "cell_type": "markdown",
   "metadata": {},
   "source": [
    "## Alphalens Factor Analysis\n",
    "\n",
    "Now that we have created the pipeline to filter and gather the equities, we will use the Alphalens tool provided by Quantopian to analyze the alpha factors that we want to test. Ultimately, we will use this tool and the metrics it gives us to understand each alpha factor's inherent ability to predict future price. We are looking for a high Alpha, a Beta close to 0, a high Sharpe Ratio, and a high Spearman Correlation."
   ]
  },
  {
   "cell_type": "code",
   "execution_count": 48,
   "metadata": {
    "collapsed": false
   },
   "outputs": [
    {
     "ename": "ValueError",
     "evalue": "Bin edges must be unique: array([ 0. ,  0. ,  0. ,  0. ,  0. ,  3.2])",
     "output_type": "error",
     "traceback": [
      "\u001b[0;31m\u001b[0m",
      "\u001b[0;31mValueError\u001b[0mTraceback (most recent call last)",
      "\u001b[0;32m<ipython-input-48-aaf685dddb38>\u001b[0m in \u001b[0;36m<module>\u001b[0;34m()\u001b[0m\n\u001b[1;32m      4\u001b[0m                                                             \u001b[0mgroupby\u001b[0m\u001b[0;34m=\u001b[0m\u001b[0msectors\u001b[0m\u001b[0;34m,\u001b[0m\u001b[0;34m\u001b[0m\u001b[0m\n\u001b[1;32m      5\u001b[0m                                                             \u001b[0mgroupby_labels\u001b[0m\u001b[0;34m=\u001b[0m\u001b[0mMORNINGSTAR_SECTOR_CODES\u001b[0m\u001b[0;34m,\u001b[0m\u001b[0;34m\u001b[0m\u001b[0m\n\u001b[0;32m----> 6\u001b[0;31m                                                             periods=(1,5,10))\n\u001b[0m",
      "\u001b[0;32m/usr/local/lib/python2.7/dist-packages/alphalens/utils.pyc\u001b[0m in \u001b[0;36mget_clean_factor_and_forward_returns\u001b[0;34m(factor, prices, groupby, by_group, quantiles, bins, periods, filter_zscore, groupby_labels)\u001b[0m\n\u001b[1;32m    339\u001b[0m                                                      \u001b[0mquantiles\u001b[0m\u001b[0;34m,\u001b[0m\u001b[0;34m\u001b[0m\u001b[0m\n\u001b[1;32m    340\u001b[0m                                                      \u001b[0mbins\u001b[0m\u001b[0;34m,\u001b[0m\u001b[0;34m\u001b[0m\u001b[0m\n\u001b[0;32m--> 341\u001b[0;31m                                                      by_group)\n\u001b[0m\u001b[1;32m    342\u001b[0m \u001b[0;34m\u001b[0m\u001b[0m\n\u001b[1;32m    343\u001b[0m     \u001b[0mmerged_data\u001b[0m \u001b[0;34m=\u001b[0m \u001b[0mmerged_data\u001b[0m\u001b[0;34m.\u001b[0m\u001b[0mdropna\u001b[0m\u001b[0;34m(\u001b[0m\u001b[0;34m)\u001b[0m\u001b[0;34m\u001b[0m\u001b[0m\n",
      "\u001b[0;32m/usr/local/lib/python2.7/dist-packages/alphalens/utils.pyc\u001b[0m in \u001b[0;36mquantize_factor\u001b[0;34m(factor_data, quantiles, bins, by_group)\u001b[0m\n\u001b[1;32m     94\u001b[0m         \u001b[0mgrouper\u001b[0m\u001b[0;34m.\u001b[0m\u001b[0mappend\u001b[0m\u001b[0;34m(\u001b[0m\u001b[0;34m'group'\u001b[0m\u001b[0;34m)\u001b[0m\u001b[0;34m\u001b[0m\u001b[0m\n\u001b[1;32m     95\u001b[0m \u001b[0;34m\u001b[0m\u001b[0m\n\u001b[0;32m---> 96\u001b[0;31m     \u001b[0mfactor_quantile\u001b[0m \u001b[0;34m=\u001b[0m \u001b[0mfactor_data\u001b[0m\u001b[0;34m.\u001b[0m\u001b[0mgroupby\u001b[0m\u001b[0;34m(\u001b[0m\u001b[0mgrouper\u001b[0m\u001b[0;34m)\u001b[0m\u001b[0;34m[\u001b[0m\u001b[0;34m'factor'\u001b[0m\u001b[0;34m]\u001b[0m\u001b[0;34m.\u001b[0m\u001b[0mapply\u001b[0m\u001b[0;34m(\u001b[0m\u001b[0mquantile_calc\u001b[0m\u001b[0;34m,\u001b[0m \u001b[0mquantiles\u001b[0m\u001b[0;34m,\u001b[0m \u001b[0mbins\u001b[0m\u001b[0;34m)\u001b[0m\u001b[0;34m\u001b[0m\u001b[0m\n\u001b[0m\u001b[1;32m     97\u001b[0m     \u001b[0mfactor_quantile\u001b[0m\u001b[0;34m.\u001b[0m\u001b[0mname\u001b[0m \u001b[0;34m=\u001b[0m \u001b[0;34m'factor_quantile'\u001b[0m\u001b[0;34m\u001b[0m\u001b[0m\n\u001b[1;32m     98\u001b[0m \u001b[0;34m\u001b[0m\u001b[0m\n",
      "\u001b[0;32m/usr/local/lib/python2.7/dist-packages/pandas/core/groupby.pyc\u001b[0m in \u001b[0;36mapply\u001b[0;34m(self, func, *args, **kwargs)\u001b[0m\n\u001b[1;32m    649\u001b[0m         \u001b[0;31m# ignore SettingWithCopy here in case the user mutates\u001b[0m\u001b[0;34m\u001b[0m\u001b[0;34m\u001b[0m\u001b[0m\n\u001b[1;32m    650\u001b[0m         \u001b[0;32mwith\u001b[0m \u001b[0moption_context\u001b[0m\u001b[0;34m(\u001b[0m\u001b[0;34m'mode.chained_assignment'\u001b[0m\u001b[0;34m,\u001b[0m \u001b[0mNone\u001b[0m\u001b[0;34m)\u001b[0m\u001b[0;34m:\u001b[0m\u001b[0;34m\u001b[0m\u001b[0m\n\u001b[0;32m--> 651\u001b[0;31m             \u001b[0;32mreturn\u001b[0m \u001b[0mself\u001b[0m\u001b[0;34m.\u001b[0m\u001b[0m_python_apply_general\u001b[0m\u001b[0;34m(\u001b[0m\u001b[0mf\u001b[0m\u001b[0;34m)\u001b[0m\u001b[0;34m\u001b[0m\u001b[0m\n\u001b[0m\u001b[1;32m    652\u001b[0m \u001b[0;34m\u001b[0m\u001b[0m\n\u001b[1;32m    653\u001b[0m     \u001b[0;32mdef\u001b[0m \u001b[0m_python_apply_general\u001b[0m\u001b[0;34m(\u001b[0m\u001b[0mself\u001b[0m\u001b[0;34m,\u001b[0m \u001b[0mf\u001b[0m\u001b[0;34m)\u001b[0m\u001b[0;34m:\u001b[0m\u001b[0;34m\u001b[0m\u001b[0m\n",
      "\u001b[0;32m/usr/local/lib/python2.7/dist-packages/pandas/core/groupby.pyc\u001b[0m in \u001b[0;36m_python_apply_general\u001b[0;34m(self, f)\u001b[0m\n\u001b[1;32m    653\u001b[0m     \u001b[0;32mdef\u001b[0m \u001b[0m_python_apply_general\u001b[0m\u001b[0;34m(\u001b[0m\u001b[0mself\u001b[0m\u001b[0;34m,\u001b[0m \u001b[0mf\u001b[0m\u001b[0;34m)\u001b[0m\u001b[0;34m:\u001b[0m\u001b[0;34m\u001b[0m\u001b[0m\n\u001b[1;32m    654\u001b[0m         keys, values, mutated = self.grouper.apply(f, self._selected_obj,\n\u001b[0;32m--> 655\u001b[0;31m                                                    self.axis)\n\u001b[0m\u001b[1;32m    656\u001b[0m \u001b[0;34m\u001b[0m\u001b[0m\n\u001b[1;32m    657\u001b[0m         return self._wrap_applied_output(\n",
      "\u001b[0;32m/usr/local/lib/python2.7/dist-packages/pandas/core/groupby.pyc\u001b[0m in \u001b[0;36mapply\u001b[0;34m(self, f, data, axis)\u001b[0m\n\u001b[1;32m   1525\u001b[0m             \u001b[0;31m# group might be modified\u001b[0m\u001b[0;34m\u001b[0m\u001b[0;34m\u001b[0m\u001b[0m\n\u001b[1;32m   1526\u001b[0m             \u001b[0mgroup_axes\u001b[0m \u001b[0;34m=\u001b[0m \u001b[0m_get_axes\u001b[0m\u001b[0;34m(\u001b[0m\u001b[0mgroup\u001b[0m\u001b[0;34m)\u001b[0m\u001b[0;34m\u001b[0m\u001b[0m\n\u001b[0;32m-> 1527\u001b[0;31m             \u001b[0mres\u001b[0m \u001b[0;34m=\u001b[0m \u001b[0mf\u001b[0m\u001b[0;34m(\u001b[0m\u001b[0mgroup\u001b[0m\u001b[0;34m)\u001b[0m\u001b[0;34m\u001b[0m\u001b[0m\n\u001b[0m\u001b[1;32m   1528\u001b[0m             \u001b[0;32mif\u001b[0m \u001b[0;32mnot\u001b[0m \u001b[0m_is_indexed_like\u001b[0m\u001b[0;34m(\u001b[0m\u001b[0mres\u001b[0m\u001b[0;34m,\u001b[0m \u001b[0mgroup_axes\u001b[0m\u001b[0;34m)\u001b[0m\u001b[0;34m:\u001b[0m\u001b[0;34m\u001b[0m\u001b[0m\n\u001b[1;32m   1529\u001b[0m                 \u001b[0mmutated\u001b[0m \u001b[0;34m=\u001b[0m \u001b[0mTrue\u001b[0m\u001b[0;34m\u001b[0m\u001b[0m\n",
      "\u001b[0;32m/usr/local/lib/python2.7/dist-packages/pandas/core/groupby.pyc\u001b[0m in \u001b[0;36mf\u001b[0;34m(g)\u001b[0m\n\u001b[1;32m    645\u001b[0m         \u001b[0;34m@\u001b[0m\u001b[0mwraps\u001b[0m\u001b[0;34m(\u001b[0m\u001b[0mfunc\u001b[0m\u001b[0;34m)\u001b[0m\u001b[0;34m\u001b[0m\u001b[0m\n\u001b[1;32m    646\u001b[0m         \u001b[0;32mdef\u001b[0m \u001b[0mf\u001b[0m\u001b[0;34m(\u001b[0m\u001b[0mg\u001b[0m\u001b[0;34m)\u001b[0m\u001b[0;34m:\u001b[0m\u001b[0;34m\u001b[0m\u001b[0m\n\u001b[0;32m--> 647\u001b[0;31m             \u001b[0;32mreturn\u001b[0m \u001b[0mfunc\u001b[0m\u001b[0;34m(\u001b[0m\u001b[0mg\u001b[0m\u001b[0;34m,\u001b[0m \u001b[0;34m*\u001b[0m\u001b[0margs\u001b[0m\u001b[0;34m,\u001b[0m \u001b[0;34m**\u001b[0m\u001b[0mkwargs\u001b[0m\u001b[0;34m)\u001b[0m\u001b[0;34m\u001b[0m\u001b[0m\n\u001b[0m\u001b[1;32m    648\u001b[0m \u001b[0;34m\u001b[0m\u001b[0m\n\u001b[1;32m    649\u001b[0m         \u001b[0;31m# ignore SettingWithCopy here in case the user mutates\u001b[0m\u001b[0;34m\u001b[0m\u001b[0;34m\u001b[0m\u001b[0m\n",
      "\u001b[0;32m/usr/local/lib/python2.7/dist-packages/alphalens/utils.pyc\u001b[0m in \u001b[0;36mquantile_calc\u001b[0;34m(x, _quantiles, _bins)\u001b[0m\n\u001b[1;32m     85\u001b[0m     \u001b[0;32mdef\u001b[0m \u001b[0mquantile_calc\u001b[0m\u001b[0;34m(\u001b[0m\u001b[0mx\u001b[0m\u001b[0;34m,\u001b[0m \u001b[0m_quantiles\u001b[0m\u001b[0;34m,\u001b[0m \u001b[0m_bins\u001b[0m\u001b[0;34m)\u001b[0m\u001b[0;34m:\u001b[0m\u001b[0;34m\u001b[0m\u001b[0m\n\u001b[1;32m     86\u001b[0m         \u001b[0;32mif\u001b[0m \u001b[0m_quantiles\u001b[0m \u001b[0;32mis\u001b[0m \u001b[0;32mnot\u001b[0m \u001b[0mNone\u001b[0m\u001b[0;34m:\u001b[0m\u001b[0;34m\u001b[0m\u001b[0m\n\u001b[0;32m---> 87\u001b[0;31m             \u001b[0;32mreturn\u001b[0m \u001b[0mpd\u001b[0m\u001b[0;34m.\u001b[0m\u001b[0mqcut\u001b[0m\u001b[0;34m(\u001b[0m\u001b[0mx\u001b[0m\u001b[0;34m,\u001b[0m \u001b[0m_quantiles\u001b[0m\u001b[0;34m,\u001b[0m \u001b[0mlabels\u001b[0m\u001b[0;34m=\u001b[0m\u001b[0mFalse\u001b[0m\u001b[0;34m)\u001b[0m \u001b[0;34m+\u001b[0m \u001b[0;36m1\u001b[0m\u001b[0;34m\u001b[0m\u001b[0m\n\u001b[0m\u001b[1;32m     88\u001b[0m         \u001b[0;32melif\u001b[0m \u001b[0m_bins\u001b[0m \u001b[0;32mis\u001b[0m \u001b[0;32mnot\u001b[0m \u001b[0mNone\u001b[0m\u001b[0;34m:\u001b[0m\u001b[0;34m\u001b[0m\u001b[0m\n\u001b[1;32m     89\u001b[0m             \u001b[0;32mreturn\u001b[0m \u001b[0mpd\u001b[0m\u001b[0;34m.\u001b[0m\u001b[0mcut\u001b[0m\u001b[0;34m(\u001b[0m\u001b[0mx\u001b[0m\u001b[0;34m,\u001b[0m \u001b[0m_bins\u001b[0m\u001b[0;34m,\u001b[0m \u001b[0mlabels\u001b[0m\u001b[0;34m=\u001b[0m\u001b[0mFalse\u001b[0m\u001b[0;34m)\u001b[0m \u001b[0;34m+\u001b[0m \u001b[0;36m1\u001b[0m\u001b[0;34m\u001b[0m\u001b[0m\n",
      "\u001b[0;32m/usr/local/lib/python2.7/dist-packages/pandas/tools/tile.pyc\u001b[0m in \u001b[0;36mqcut\u001b[0;34m(x, q, labels, retbins, precision)\u001b[0m\n\u001b[1;32m    171\u001b[0m     \u001b[0mbins\u001b[0m \u001b[0;34m=\u001b[0m \u001b[0malgos\u001b[0m\u001b[0;34m.\u001b[0m\u001b[0mquantile\u001b[0m\u001b[0;34m(\u001b[0m\u001b[0mx\u001b[0m\u001b[0;34m,\u001b[0m \u001b[0mquantiles\u001b[0m\u001b[0;34m)\u001b[0m\u001b[0;34m\u001b[0m\u001b[0m\n\u001b[1;32m    172\u001b[0m     return _bins_to_cuts(x, bins, labels=labels, retbins=retbins,\n\u001b[0;32m--> 173\u001b[0;31m                          precision=precision, include_lowest=True)\n\u001b[0m\u001b[1;32m    174\u001b[0m \u001b[0;34m\u001b[0m\u001b[0m\n\u001b[1;32m    175\u001b[0m \u001b[0;34m\u001b[0m\u001b[0m\n",
      "\u001b[0;32m/usr/local/lib/python2.7/dist-packages/pandas/tools/tile.pyc\u001b[0m in \u001b[0;36m_bins_to_cuts\u001b[0;34m(x, bins, right, labels, retbins, precision, name, include_lowest)\u001b[0m\n\u001b[1;32m    190\u001b[0m \u001b[0;34m\u001b[0m\u001b[0m\n\u001b[1;32m    191\u001b[0m     \u001b[0;32mif\u001b[0m \u001b[0mlen\u001b[0m\u001b[0;34m(\u001b[0m\u001b[0malgos\u001b[0m\u001b[0;34m.\u001b[0m\u001b[0munique\u001b[0m\u001b[0;34m(\u001b[0m\u001b[0mbins\u001b[0m\u001b[0;34m)\u001b[0m\u001b[0;34m)\u001b[0m \u001b[0;34m<\u001b[0m \u001b[0mlen\u001b[0m\u001b[0;34m(\u001b[0m\u001b[0mbins\u001b[0m\u001b[0;34m)\u001b[0m\u001b[0;34m:\u001b[0m\u001b[0;34m\u001b[0m\u001b[0m\n\u001b[0;32m--> 192\u001b[0;31m         \u001b[0;32mraise\u001b[0m \u001b[0mValueError\u001b[0m\u001b[0;34m(\u001b[0m\u001b[0;34m'Bin edges must be unique: %s'\u001b[0m \u001b[0;34m%\u001b[0m \u001b[0mrepr\u001b[0m\u001b[0;34m(\u001b[0m\u001b[0mbins\u001b[0m\u001b[0;34m)\u001b[0m\u001b[0;34m)\u001b[0m\u001b[0;34m\u001b[0m\u001b[0m\n\u001b[0m\u001b[1;32m    193\u001b[0m \u001b[0;34m\u001b[0m\u001b[0m\n\u001b[1;32m    194\u001b[0m     \u001b[0;32mif\u001b[0m \u001b[0minclude_lowest\u001b[0m\u001b[0;34m:\u001b[0m\u001b[0;34m\u001b[0m\u001b[0m\n",
      "\u001b[0;31mValueError\u001b[0m: Bin edges must be unique: array([ 0. ,  0. ,  0. ,  0. ,  0. ,  3.2])"
     ]
    }
   ],
   "source": [
    "bearish_intensity_factor_data = al.utils.get_clean_factor_and_forward_returns(\n",
    "                                                            factor=bearish_intensity_factor,\n",
    "                                                            prices=prices,\n",
    "                                                            groupby=sectors,\n",
    "                                                            groupby_labels=MORNINGSTAR_SECTOR_CODES,\n",
    "                                                            periods=(1,5,10))"
   ]
  },
  {
   "cell_type": "code",
   "execution_count": null,
   "metadata": {
    "collapsed": true
   },
   "outputs": [],
   "source": []
  }
 ],
 "metadata": {
  "kernelspec": {
   "display_name": "Python 2",
   "language": "python",
   "name": "python2"
  },
  "language_info": {
   "codemirror_mode": {
    "name": "ipython",
    "version": 2
   },
   "file_extension": ".py",
   "mimetype": "text/x-python",
   "name": "python",
   "nbconvert_exporter": "python",
   "pygments_lexer": "ipython2",
   "version": "2.7.12"
  }
 },
 "nbformat": 4,
 "nbformat_minor": 2
}