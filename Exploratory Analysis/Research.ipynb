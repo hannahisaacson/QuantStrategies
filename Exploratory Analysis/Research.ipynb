{
 "cells": [
  {
   "cell_type": "markdown",
   "metadata": {},
   "source": [
    "# Research\n",
    "\n",
    "by Joshua Isaacson and Hannah Isaacson \n",
    "\n",
    "For our Fall 2017 SICE@IU undergraduate research project, *A Sentiment-Based Long-Short Equity Strategy*."
   ]
  },
  {
   "cell_type": "markdown",
   "metadata": {},
   "source": [
    "## Components\n",
    "\n",
    "1. Universe Selection\n",
    "2. Factor Analysis\n",
    "3. Rebalancing\n",
    "4. Portfolio\n",
    "5. Pipeline"
   ]
  },
  {
   "cell_type": "markdown",
   "metadata": {},
   "source": [
    "##  Universe Selection\n",
    "\n",
    "This component covers our process of defining the trading universe for which the algorithm operates."
   ]
  },
  {
   "cell_type": "markdown",
   "metadata": {},
   "source": [
    "### Imports "
   ]
  },
  {
   "cell_type": "code",
   "execution_count": 185,
   "metadata": {
    "collapsed": false
   },
   "outputs": [],
   "source": [
    "import numpy as np\n",
    "import pandas as pd\n",
    "import matplotlib.pyplot as plt\n",
    "import seaborn as sns\n",
    "from quantopian.pipeline.filters import Q1500US\n",
    "from quantopian.research import run_pipeline\n",
    "from quantopian.pipeline import Pipeline\n",
    "from quantopian.pipeline.data.psychsignal import stocktwits\n",
    "from quantopian.pipeline.data import Fundamentals\n",
    "from quantopian.pipeline.data.builtin import USEquityPricing\n",
    "from quantopian.pipeline.filters.fundamentals import IsPrimaryShare\n",
    "from quantopian.pipeline.data.builtin import USEquityPricing\n",
    "from quantopian.pipeline.factors import CustomFactor, Returns\n",
    "from quantopian.pipeline.classifiers.fundamentals import Sector\n",
    "from quantopian.pipeline.data.sentdex import sentiment_free\n",
    "from quantopian.pipeline.factors import SimpleMovingAverage\n",
    "from time import time\n",
    "import alphalens as al"
   ]
  },
  {
   "cell_type": "markdown",
   "metadata": {},
   "source": [
    "### Universe"
   ]
  },
  {
   "cell_type": "code",
   "execution_count": 186,
   "metadata": {
    "collapsed": false
   },
   "outputs": [],
   "source": [
    "universe = Q1500US()"
   ]
  },
  {
   "cell_type": "markdown",
   "metadata": {},
   "source": [
    "## Factor Analysis\n",
    "\n",
    "We want to test to see how good our alpha factors are at predicting relative price movements. A wide range of factors that are independent of each other yield a better ranking scheme.\n",
    "\n",
    "The factors we are going to evaluate are:\n",
    "* bearish_intensity\n",
    "* bullish_intensity\n",
    "* sentiment_signal\n",
    "* sentiment moving average (10, 20, 30, 50, 80 day)\n",
    "    * simple and exponential"
   ]
  },
  {
   "cell_type": "markdown",
   "metadata": {},
   "source": [
    "### Fields in PsychSignal Dataset"
   ]
  },
  {
   "cell_type": "code",
   "execution_count": 187,
   "metadata": {
    "collapsed": false,
    "scrolled": false
   },
   "outputs": [
    {
     "name": "stdout",
     "output_type": "stream",
     "text": [
      "Dataset: stocktwits\n",
      "\n",
      "Fields:\n",
      "bull_scored_messages - float64\n",
      "bullish_intensity - float64\n",
      "symbol - object\n",
      "bull_minus_bear - float64\n",
      "bull_bear_msg_ratio - float64\n",
      "source - object\n",
      "bear_scored_messages - float64\n",
      "total_scanned_messages - float64\n",
      "asof_date - datetime64[ns]\n",
      "bearish_intensity - float64\n",
      "\n",
      "\n"
     ]
    }
   ],
   "source": [
    "def print_fields(dataset):\n",
    "    print \"Dataset: %s\\n\" % dataset.__name__\n",
    "    print \"Fields:\"\n",
    "    for field in list(dataset.columns):\n",
    "        print \"%s - %s\" % (field.name, field.dtype)\n",
    "    print \"\\n\"\n",
    "\n",
    "for data in (stocktwits,):\n",
    "    print_fields(data)"
   ]
  },
  {
   "cell_type": "markdown",
   "metadata": {},
   "source": [
    "### Fields in Sentdex Sentiment Analysis Dataset"
   ]
  },
  {
   "cell_type": "code",
   "execution_count": 188,
   "metadata": {
    "collapsed": false
   },
   "outputs": [
    {
     "name": "stdout",
     "output_type": "stream",
     "text": [
      "Dataset: sentiment_free\n",
      "\n",
      "Fields:\n",
      "sentiment_signal - float64\n",
      "symbol - object\n",
      "asof_date - datetime64[ns]\n",
      "\n",
      "\n"
     ]
    }
   ],
   "source": [
    "def print_fields(dataset):\n",
    "    print \"Dataset: %s\\n\" % dataset.__name__\n",
    "    print \"Fields:\"\n",
    "    for field in list(dataset.columns):\n",
    "        print \"%s - %s\" % (field.name, field.dtype)\n",
    "    print \"\\n\"\n",
    "\n",
    "for data in (sentiment_free,):\n",
    "    print_fields(data)"
   ]
  },
  {
   "cell_type": "markdown",
   "metadata": {},
   "source": [
    "### Sentiment Signal Moving Averages\n",
    "\n",
    "Simple Moving Averages"
   ]
  },
  {
   "cell_type": "code",
   "execution_count": 189,
   "metadata": {
    "collapsed": false
   },
   "outputs": [],
   "source": [
    "sma_10 = SimpleMovingAverage(inputs=[sentiment_free.sentiment_signal], window_length=10, mask=universe)\n",
    "sma_20 = SimpleMovingAverage(inputs=[sentiment_free.sentiment_signal], window_length=20, mask=universe)\n",
    "sma_30 = SimpleMovingAverage(inputs=[sentiment_free.sentiment_signal], window_length=30, mask=universe)\n",
    "sma_50 = SimpleMovingAverage(inputs=[sentiment_free.sentiment_signal], window_length=50, mask=universe)\n",
    "sma_80 = SimpleMovingAverage(inputs=[sentiment_free.sentiment_signal], window_length=80, mask=universe)"
   ]
  },
  {
   "cell_type": "markdown",
   "metadata": {},
   "source": [
    "### Sector Codes"
   ]
  },
  {
   "cell_type": "code",
   "execution_count": 190,
   "metadata": {
    "collapsed": true
   },
   "outputs": [],
   "source": [
    "MORNINGSTAR_SECTOR_CODES = {\n",
    "     -1: 'Misc',\n",
    "    101: 'Basic Materials',\n",
    "    102: 'Consumer Cyclical',\n",
    "    103: 'Financial Services',\n",
    "    104: 'Real Estate',\n",
    "    205: 'Consumer Defensive',\n",
    "    206: 'Healthcare',\n",
    "    207: 'Utilities',\n",
    "    308: 'Communication Services',\n",
    "    309: 'Energy',\n",
    "    310: 'Industrials',\n",
    "    311: 'Technology' ,\n",
    "}"
   ]
  },
  {
   "cell_type": "markdown",
   "metadata": {
    "collapsed": true
   },
   "source": [
    "### Getting Data"
   ]
  },
  {
   "cell_type": "code",
   "execution_count": 191,
   "metadata": {
    "collapsed": false,
    "scrolled": false
   },
   "outputs": [
    {
     "name": "stdout",
     "output_type": "stream",
     "text": [
      "Time to run pipeline 27.22 secs\n"
     ]
    }
   ],
   "source": [
    "pipe = Pipeline()\n",
    "\n",
    "pipe.add(stocktwits.bearish_intensity.latest, 'bearish_intensity')\n",
    "pipe.add(stocktwits.bullish_intensity.latest, 'bullish_intensity')\n",
    "pipe.add(sentiment_free.sentiment_signal.latest, 'sentiment_signal')\n",
    "pipe.add(sma_10, 'sma_10')\n",
    "pipe.add(sma_20, 'sma_20')\n",
    "pipe.add(sma_30, 'sma_30')\n",
    "pipe.add(sma_50, 'sma_50')\n",
    "pipe.add(sma_80, 'sma_80')\n",
    "\n",
    "pipe.set_screen(universe)\n",
    "\n",
    "start_timer = time()\n",
    "results = run_pipeline(pipe, '2015-01-01', '2016-01-01')\n",
    "end_timer = time()\n",
    "\n",
    "print(\"Time to run pipeline %.2f secs\" % (end_timer - start_timer))"
   ]
  },
  {
   "cell_type": "markdown",
   "metadata": {},
   "source": [
    "### Dealing with NaN Values"
   ]
  },
  {
   "cell_type": "code",
   "execution_count": 195,
   "metadata": {
    "collapsed": false
   },
   "outputs": [
    {
     "data": {
      "text/html": [
       "<div>\n",
       "<table border=\"1\" class=\"dataframe\">\n",
       "  <thead>\n",
       "    <tr style=\"text-align: right;\">\n",
       "      <th></th>\n",
       "      <th></th>\n",
       "      <th>bearish_intensity</th>\n",
       "      <th>bullish_intensity</th>\n",
       "      <th>sentiment_signal</th>\n",
       "      <th>sma_10</th>\n",
       "      <th>sma_20</th>\n",
       "      <th>sma_30</th>\n",
       "      <th>sma_50</th>\n",
       "      <th>sma_80</th>\n",
       "    </tr>\n",
       "  </thead>\n",
       "  <tbody>\n",
       "    <tr>\n",
       "      <th rowspan=\"5\" valign=\"top\">2015-01-02 00:00:00+00:00</th>\n",
       "      <th>Equity(2 [ARNC])</th>\n",
       "      <td>0.00</td>\n",
       "      <td>1.20</td>\n",
       "      <td>2.0</td>\n",
       "      <td>2.8</td>\n",
       "      <td>3.600</td>\n",
       "      <td>4.266667</td>\n",
       "      <td>4.26</td>\n",
       "      <td>2.7375</td>\n",
       "    </tr>\n",
       "    <tr>\n",
       "      <th>Equity(24 [AAPL])</th>\n",
       "      <td>1.82</td>\n",
       "      <td>1.46</td>\n",
       "      <td>2.0</td>\n",
       "      <td>1.8</td>\n",
       "      <td>0.200</td>\n",
       "      <td>0.800000</td>\n",
       "      <td>0.80</td>\n",
       "      <td>0.8750</td>\n",
       "    </tr>\n",
       "    <tr>\n",
       "      <th>Equity(41 [ARCB])</th>\n",
       "      <td>0.91</td>\n",
       "      <td>0.73</td>\n",
       "      <td>1.5</td>\n",
       "      <td>-0.2</td>\n",
       "      <td>-0.375</td>\n",
       "      <td>0.416667</td>\n",
       "      <td>0.88</td>\n",
       "      <td>1.3250</td>\n",
       "    </tr>\n",
       "    <tr>\n",
       "      <th>Equity(62 [ABT])</th>\n",
       "      <td>0.00</td>\n",
       "      <td>0.00</td>\n",
       "      <td>1.0</td>\n",
       "      <td>-2.2</td>\n",
       "      <td>-0.950</td>\n",
       "      <td>0.033333</td>\n",
       "      <td>0.96</td>\n",
       "      <td>1.7750</td>\n",
       "    </tr>\n",
       "    <tr>\n",
       "      <th>Equity(67 [ADSK])</th>\n",
       "      <td>1.70</td>\n",
       "      <td>0.00</td>\n",
       "      <td>6.0</td>\n",
       "      <td>6.0</td>\n",
       "      <td>6.000</td>\n",
       "      <td>5.933333</td>\n",
       "      <td>4.56</td>\n",
       "      <td>4.2500</td>\n",
       "    </tr>\n",
       "  </tbody>\n",
       "</table>\n",
       "</div>"
      ],
      "text/plain": [
       "                                             bearish_intensity  \\\n",
       "2015-01-02 00:00:00+00:00 Equity(2 [ARNC])                0.00   \n",
       "                          Equity(24 [AAPL])               1.82   \n",
       "                          Equity(41 [ARCB])               0.91   \n",
       "                          Equity(62 [ABT])                0.00   \n",
       "                          Equity(67 [ADSK])               1.70   \n",
       "\n",
       "                                             bullish_intensity  \\\n",
       "2015-01-02 00:00:00+00:00 Equity(2 [ARNC])                1.20   \n",
       "                          Equity(24 [AAPL])               1.46   \n",
       "                          Equity(41 [ARCB])               0.73   \n",
       "                          Equity(62 [ABT])                0.00   \n",
       "                          Equity(67 [ADSK])               0.00   \n",
       "\n",
       "                                             sentiment_signal  sma_10  sma_20  \\\n",
       "2015-01-02 00:00:00+00:00 Equity(2 [ARNC])                2.0     2.8   3.600   \n",
       "                          Equity(24 [AAPL])               2.0     1.8   0.200   \n",
       "                          Equity(41 [ARCB])               1.5    -0.2  -0.375   \n",
       "                          Equity(62 [ABT])                1.0    -2.2  -0.950   \n",
       "                          Equity(67 [ADSK])               6.0     6.0   6.000   \n",
       "\n",
       "                                               sma_30  sma_50  sma_80  \n",
       "2015-01-02 00:00:00+00:00 Equity(2 [ARNC])   4.266667    4.26  2.7375  \n",
       "                          Equity(24 [AAPL])  0.800000    0.80  0.8750  \n",
       "                          Equity(41 [ARCB])  0.416667    0.88  1.3250  \n",
       "                          Equity(62 [ABT])   0.033333    0.96  1.7750  \n",
       "                          Equity(67 [ADSK])  5.933333    4.56  4.2500  "
      ]
     },
     "execution_count": 195,
     "metadata": {},
     "output_type": "execute_result"
    }
   ],
   "source": [
    "adjusted_dataset = results.interpolate()\n",
    "adjusted_dataset.head()\n",
    "#len(adjusted_dataset)"
   ]
  },
  {
   "cell_type": "markdown",
   "metadata": {},
   "source": [
    "### Filtering for Unique Equities"
   ]
  },
  {
   "cell_type": "markdown",
   "metadata": {},
   "source": [
    "# TODO\n",
    "\n",
    "* first name the equity column, the drop duplicates based on it\n",
    "* Alphalens tearsheet for:\n",
    "    * bearish_intensity\n",
    "    * bullish_intensity\n",
    "    * sentiment_signal\n",
    "    * sentiment moving averages\n",
    "* choose factors\n",
    "* choose how to distribute long and short\n",
    "* backtest\n",
    "* analyze portfolio\n",
    "* repeat backtests"
   ]
  },
  {
   "cell_type": "code",
   "execution_count": null,
   "metadata": {
    "collapsed": true
   },
   "outputs": [],
   "source": []
  }
 ],
 "metadata": {
  "kernelspec": {
   "display_name": "Python 2",
   "language": "python",
   "name": "python2"
  },
  "language_info": {
   "codemirror_mode": {
    "name": "ipython",
    "version": 2
   },
   "file_extension": ".py",
   "mimetype": "text/x-python",
   "name": "python",
   "nbconvert_exporter": "python",
   "pygments_lexer": "ipython2",
   "version": "2.7.12"
  }
 },
 "nbformat": 4,
 "nbformat_minor": 2
}